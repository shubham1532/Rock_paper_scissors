{
 "cells": [
  {
   "cell_type": "code",
   "execution_count": 1,
   "metadata": {},
   "outputs": [],
   "source": [
    "import random"
   ]
  },
  {
   "cell_type": "code",
   "execution_count": 5,
   "metadata": {},
   "outputs": [
    {
     "name": "stdout",
     "output_type": "stream",
     "text": [
      "\n",
      "    ___\n",
      "---'   _)_\n",
      "          __)\n",
      "       ____)\n",
      "      (__)\n",
      "---._(__)\n",
      "\n"
     ]
    },
    {
     "ename": "TypeError",
     "evalue": "randint() missing 1 required positional argument: 'b'",
     "output_type": "error",
     "traceback": [
      "\u001b[0;31m---------------------------------------------------------------------------\u001b[0m",
      "\u001b[0;31mTypeError\u001b[0m                                 Traceback (most recent call last)",
      "\u001b[0;32m<ipython-input-5-16f648564d65>\u001b[0m in \u001b[0;36m<module>\u001b[0;34m\u001b[0m\n\u001b[1;32m      8\u001b[0m   \u001b[0mprint\u001b[0m \u001b[0;34m(\u001b[0m\u001b[0;34m\"you made an incorrect choice\"\u001b[0m\u001b[0;34m)\u001b[0m\u001b[0;34m\u001b[0m\u001b[0;34m\u001b[0m\u001b[0m\n\u001b[1;32m      9\u001b[0m \u001b[0;34m\u001b[0m\u001b[0m\n\u001b[0;32m---> 10\u001b[0;31m \u001b[0mb\u001b[0m \u001b[0;34m=\u001b[0m \u001b[0mrandom\u001b[0m\u001b[0;34m.\u001b[0m\u001b[0mrandint\u001b[0m\u001b[0;34m(\u001b[0m\u001b[0;36m0\u001b[0m\u001b[0;34m,\u001b[0m\u001b[0;34m)\u001b[0m\u001b[0;34m\u001b[0m\u001b[0;34m\u001b[0m\u001b[0m\n\u001b[0m\u001b[1;32m     11\u001b[0m \u001b[0mprint\u001b[0m \u001b[0;34m(\u001b[0m\u001b[0;34m\"computer chose:\"\u001b[0m\u001b[0;34m)\u001b[0m\u001b[0;34m\u001b[0m\u001b[0;34m\u001b[0m\u001b[0m\n\u001b[1;32m     12\u001b[0m \u001b[0;32mif\u001b[0m \u001b[0mb\u001b[0m \u001b[0;34m==\u001b[0m \u001b[0;36m0\u001b[0m\u001b[0;34m:\u001b[0m\u001b[0;34m\u001b[0m\u001b[0;34m\u001b[0m\u001b[0m\n",
      "\u001b[0;31mTypeError\u001b[0m: randint() missing 1 required positional argument: 'b'"
     ]
    }
   ],
   "source": [
    "import random\n",
    "rock = '''\n",
    "    ___\n",
    "---'   __)\n",
    "      (___)\n",
    "      (___)\n",
    "      (__)\n",
    "---._(__)\n",
    "'''\n",
    "\n",
    "paper = '''\n",
    "    ___\n",
    "---'   _)_\n",
    "          __)\n",
    "          ___)\n",
    "         ___)\n",
    "---.____)\n",
    "'''\n",
    "\n",
    "scissors = '''\n",
    "    ___\n",
    "---'   _)_\n",
    "          __)\n",
    "       ____)\n",
    "      (__)\n",
    "---._(__)\n",
    "'''\n",
    "\n",
    "print (\"Welcome to Rock, Paper, Scissors!!!\")\n",
    "a = int(input(\"\\nMake your choice. Type 0 for rock, 1 for paper or 2 for scissors.\\n\"))\n",
    "\n",
    "if a == 0:\n",
    "  print(rock)\n",
    "elif a == 1:\n",
    "  print(paper)\n",
    "elif a == 2:\n",
    "  print(scissors)\n",
    "else:\n",
    "  print (\"you made an incorrect choice\")\n",
    "\n",
    "b = random.randint(0,3)\n",
    "print (\"computer chose:\")\n",
    "if b == 0:\n",
    "  print(rock)\n",
    "elif b == 1:\n",
    "  print(paper)\n",
    "elif b == 2:\n",
    "  print(scissors)\n",
    "\n",
    "if (a==0 and b==2) or (a==1 and b==0) or (a==2 and b==1):\n",
    "  print(\"\\nYou Win\")\n",
    "elif (a==b):\n",
    "  print(\"\\nDraw\")\n",
    "else:\n",
    "  print(\"\\nYou Lose\")"
   ]
  },
  {
   "cell_type": "code",
   "execution_count": null,
   "metadata": {},
   "outputs": [],
   "source": []
  }
 ],
 "metadata": {
  "kernelspec": {
   "display_name": "Python 3",
   "language": "python",
   "name": "python3"
  },
  "language_info": {
   "codemirror_mode": {
    "name": "ipython",
    "version": 3
   },
   "file_extension": ".py",
   "mimetype": "text/x-python",
   "name": "python",
   "nbconvert_exporter": "python",
   "pygments_lexer": "ipython3",
   "version": "3.7.6"
  }
 },
 "nbformat": 4,
 "nbformat_minor": 4
}
